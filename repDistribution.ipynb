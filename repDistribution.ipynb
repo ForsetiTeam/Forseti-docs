{
 "cells": [
  {
   "cell_type": "code",
   "execution_count": 1,
   "metadata": {
    "collapsed": true
   },
   "outputs": [],
   "source": [
    "import numpy as np\n",
    "import math\n",
    "import matplotlib.pyplot as plt"
   ]
  },
  {
   "cell_type": "code",
   "execution_count": 18,
   "metadata": {},
   "outputs": [
    {
     "name": "stdout",
     "output_type": "stream",
     "text": [
      "[1.8903123360218033, 0.7714153389490319, 1.023713464330387, 0.7790276519367734, 0.501254759337949, 0.616650234367695, 1.0545518668435838, 0.8318568534253501, 0.6799662209513702, 1.8512512738360565]\n",
      "10.0\n"
     ]
    }
   ],
   "source": [
    "from random import uniform as rand\n",
    "\n",
    "def gaussian(x, mu = 0, sigma = 1):\n",
    "    return math.exp(-0.5*((x-mu)/sigma)**2) / sigma / math.sqrt(2*math.pi)\n",
    "\n",
    "def rand_equal_sum(n, M):\n",
    "     splits = [0] + [rand(0, 1) for _ in range(0,n-1)] + [1]\n",
    "     splits.sort()\n",
    "     diffs = [x - splits[i - 1] for i, x in enumerate(splits)][1:]\n",
    "     result = list(map(lambda x:x*M, diffs))\n",
    "     return result\n",
    "res = rand_equal_sum(10,10)\n",
    "print(res)\n",
    "print(sum(res))"
   ]
  },
  {
   "cell_type": "code",
   "execution_count": 19,
   "metadata": {
    "scrolled": false
   },
   "outputs": [
    {
     "name": "stdout",
     "output_type": "stream",
     "text": [
      "1.8512512738360565\n"
     ]
    },
    {
     "data": {
      "image/png": "[encoded data removed]",
      "text/plain": [
       "<matplotlib.figure.Figure at 0x113401c18>"
      ]
     },
     "metadata": {},
     "output_type": "display_data"
    }
   ],
   "source": [
    "dif = res.pop()\n",
    "res.sort()\n",
    "print(dif)\n",
    "x = np.linspace(1, len(res), len(res))\n",
    "p = plt.plot(x, [r for r in res],'r*')\n",
    "plt.xlim(0,11)\n",
    "plt.grid()\n",
    "plt.legend()\n",
    "plt.show()"
   ]
  },
  {
   "cell_type": "code",
   "execution_count": 20,
   "metadata": {
    "collapsed": true
   },
   "outputs": [],
   "source": [
    "def rep_distribution(res, dif, n):\n",
    "    xs = np.linspace(-2, 2, n)\n",
    "    gausValues = []\n",
    "    for x in xs:\n",
    "        gausValues.append(gaussian(x))\n",
    "    gains = []\n",
    "    for g in gausValues:\n",
    "        gains.append(g/sum(gausValues))\n",
    "    difs = []\n",
    "    for i in range(len(res)):\n",
    "        difi = dif * gains[i]\n",
    "        res[i] += difi\n",
    "        difs.append(difi)\n",
    "        if (i == len(res)- 1 - i):\n",
    "            break\n",
    "        res[- 1 - i] += difi \n",
    "        difs.append(difi)\n",
    "    x = np.linspace(1, len(res), len(res))\n",
    "    p = plt.plot(x, [g for g in gains],'r*', label='$\\sigma = 1$')\n",
    "    plt.legend()\n",
    "    plt.xlim(0,11)\n",
    "    plt.grid()\n",
    "    plt.show()"
   ]
  },
  {
   "cell_type": "code",
   "execution_count": 21,
   "metadata": {},
   "outputs": [
    {
     "data": {
      "image/png": "[encoded data removed]",
      "text/plain": [
       "<matplotlib.figure.Figure at 0x113af6978>"
      ]
     },
     "metadata": {},
     "output_type": "display_data"
    }
   ],
   "source": [
    "rep_distribution(res, dif-1, len(res))"
   ]
  },
  {
   "cell_type": "code",
   "execution_count": 23,
   "metadata": {
    "scrolled": true
   },
   "outputs": [
    {
     "name": "stdout",
     "output_type": "stream",
     "text": [
      "9.0\n"
     ]
    },
    {
     "data": {
      "image/png": "[encoded data removed]",
      "text/plain": [
       "<matplotlib.figure.Figure at 0x119c3d0b8>"
      ]
     },
     "metadata": {},
     "output_type": "display_data"
    }
   ],
   "source": [
    "print(sum(res))\n",
    "x = np.linspace(1, len(res), len(res))\n",
    "p = plt.plot(x, [r for r in res],'r*', label='$\\sigma = 1$')\n",
    "plt.legend()\n",
    "plt.show()"
   ]
  }
 ],
 "metadata": {
  "kernelspec": {
   "display_name": "Python 3",
   "language": "python",
   "name": "python3"
  },
  "language_info": {
   "codemirror_mode": {
    "name": "ipython",
    "version": 3
   },
   "file_extension": ".py",
   "mimetype": "text/x-python",
   "name": "python",
   "nbconvert_exporter": "python",
   "pygments_lexer": "ipython3",
   "version": "3.6.3"
  }
 },
 "nbformat": 4,
 "nbformat_minor": 2
}
